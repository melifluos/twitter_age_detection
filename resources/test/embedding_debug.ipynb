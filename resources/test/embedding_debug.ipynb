{
 "cells": [
  {
   "cell_type": "code",
   "execution_count": 11,
   "metadata": {
    "collapsed": false
   },
   "outputs": [],
   "source": [
    "import pandas as pd\n",
    "import numpy as np \n",
    "import matplotlib.pyplot as plt\n",
    "import cPickle as pickle"
   ]
  },
  {
   "cell_type": "code",
   "execution_count": 5,
   "metadata": {
    "collapsed": false
   },
   "outputs": [],
   "source": [
    "path = 'test64.emd'\n",
    "size = 64\n",
    "data = pd.read_csv(path, header=None, index_col=0, skiprows=1, names=np.arange(size), sep=\" \")"
   ]
  },
  {
   "cell_type": "code",
   "execution_count": 12,
   "metadata": {
    "collapsed": true
   },
   "outputs": [],
   "source": [
    "def read_pickle(path):\n",
    "    with open(path, 'rb') as infile:\n",
    "        return pickle.load(infile)"
   ]
  },
  {
   "cell_type": "code",
   "execution_count": 6,
   "metadata": {
    "collapsed": false
   },
   "outputs": [
    {
     "data": {
      "text/html": [
       "<div>\n",
       "<table border=\"1\" class=\"dataframe\">\n",
       "  <thead>\n",
       "    <tr style=\"text-align: right;\">\n",
       "      <th></th>\n",
       "      <th>0</th>\n",
       "      <th>1</th>\n",
       "      <th>2</th>\n",
       "      <th>3</th>\n",
       "      <th>4</th>\n",
       "      <th>5</th>\n",
       "      <th>6</th>\n",
       "      <th>7</th>\n",
       "      <th>8</th>\n",
       "      <th>9</th>\n",
       "      <th>...</th>\n",
       "      <th>54</th>\n",
       "      <th>55</th>\n",
       "      <th>56</th>\n",
       "      <th>57</th>\n",
       "      <th>58</th>\n",
       "      <th>59</th>\n",
       "      <th>60</th>\n",
       "      <th>61</th>\n",
       "      <th>62</th>\n",
       "      <th>63</th>\n",
       "    </tr>\n",
       "  </thead>\n",
       "  <tbody>\n",
       "    <tr>\n",
       "      <th>8407</th>\n",
       "      <td>-0.509839</td>\n",
       "      <td>0.130316</td>\n",
       "      <td>0.537201</td>\n",
       "      <td>-0.420415</td>\n",
       "      <td>0.063562</td>\n",
       "      <td>-0.220329</td>\n",
       "      <td>0.347463</td>\n",
       "      <td>-0.220612</td>\n",
       "      <td>0.212495</td>\n",
       "      <td>0.172507</td>\n",
       "      <td>...</td>\n",
       "      <td>-0.467757</td>\n",
       "      <td>0.435015</td>\n",
       "      <td>-0.240713</td>\n",
       "      <td>-0.169010</td>\n",
       "      <td>-0.314546</td>\n",
       "      <td>0.023538</td>\n",
       "      <td>0.235830</td>\n",
       "      <td>-0.482671</td>\n",
       "      <td>-0.737904</td>\n",
       "      <td>-0.034339</td>\n",
       "    </tr>\n",
       "    <tr>\n",
       "      <th>24134</th>\n",
       "      <td>-0.762458</td>\n",
       "      <td>-0.209415</td>\n",
       "      <td>-0.012720</td>\n",
       "      <td>-0.596400</td>\n",
       "      <td>0.093211</td>\n",
       "      <td>-0.379369</td>\n",
       "      <td>0.383266</td>\n",
       "      <td>-0.082587</td>\n",
       "      <td>0.080922</td>\n",
       "      <td>-0.057420</td>\n",
       "      <td>...</td>\n",
       "      <td>-0.683487</td>\n",
       "      <td>0.726207</td>\n",
       "      <td>0.089751</td>\n",
       "      <td>-0.587924</td>\n",
       "      <td>-0.085845</td>\n",
       "      <td>0.497894</td>\n",
       "      <td>0.018399</td>\n",
       "      <td>-0.359172</td>\n",
       "      <td>0.048604</td>\n",
       "      <td>-0.174402</td>\n",
       "    </tr>\n",
       "    <tr>\n",
       "      <th>437</th>\n",
       "      <td>-0.567770</td>\n",
       "      <td>-0.361471</td>\n",
       "      <td>0.317059</td>\n",
       "      <td>0.171634</td>\n",
       "      <td>0.501322</td>\n",
       "      <td>0.028927</td>\n",
       "      <td>-0.475412</td>\n",
       "      <td>0.215894</td>\n",
       "      <td>-0.349919</td>\n",
       "      <td>-0.187479</td>\n",
       "      <td>...</td>\n",
       "      <td>-0.434644</td>\n",
       "      <td>0.182110</td>\n",
       "      <td>-0.737798</td>\n",
       "      <td>-0.081906</td>\n",
       "      <td>-0.732887</td>\n",
       "      <td>0.208704</td>\n",
       "      <td>1.018759</td>\n",
       "      <td>0.026315</td>\n",
       "      <td>0.026876</td>\n",
       "      <td>0.023387</td>\n",
       "    </tr>\n",
       "    <tr>\n",
       "      <th>5137</th>\n",
       "      <td>-0.114107</td>\n",
       "      <td>-0.762725</td>\n",
       "      <td>0.428250</td>\n",
       "      <td>-0.164369</td>\n",
       "      <td>0.262402</td>\n",
       "      <td>-0.282245</td>\n",
       "      <td>0.441096</td>\n",
       "      <td>-0.002964</td>\n",
       "      <td>-0.808163</td>\n",
       "      <td>-0.026543</td>\n",
       "      <td>...</td>\n",
       "      <td>0.116016</td>\n",
       "      <td>-0.034020</td>\n",
       "      <td>0.427990</td>\n",
       "      <td>0.505340</td>\n",
       "      <td>-0.523311</td>\n",
       "      <td>-0.282126</td>\n",
       "      <td>-0.195657</td>\n",
       "      <td>0.071896</td>\n",
       "      <td>0.249905</td>\n",
       "      <td>-0.065358</td>\n",
       "    </tr>\n",
       "    <tr>\n",
       "      <th>112225</th>\n",
       "      <td>-0.756745</td>\n",
       "      <td>-0.023949</td>\n",
       "      <td>0.804185</td>\n",
       "      <td>-0.250221</td>\n",
       "      <td>-0.235534</td>\n",
       "      <td>-0.252788</td>\n",
       "      <td>-0.055301</td>\n",
       "      <td>-0.696824</td>\n",
       "      <td>-0.533545</td>\n",
       "      <td>-0.256596</td>\n",
       "      <td>...</td>\n",
       "      <td>-0.445286</td>\n",
       "      <td>0.011182</td>\n",
       "      <td>-0.139111</td>\n",
       "      <td>0.167113</td>\n",
       "      <td>-1.012066</td>\n",
       "      <td>0.000972</td>\n",
       "      <td>0.321081</td>\n",
       "      <td>-0.443356</td>\n",
       "      <td>-0.084046</td>\n",
       "      <td>-0.338192</td>\n",
       "    </tr>\n",
       "  </tbody>\n",
       "</table>\n",
       "<p>5 rows × 64 columns</p>\n",
       "</div>"
      ],
      "text/plain": [
       "              0         1         2         3         4         5         6   \\\n",
       "8407   -0.509839  0.130316  0.537201 -0.420415  0.063562 -0.220329  0.347463   \n",
       "24134  -0.762458 -0.209415 -0.012720 -0.596400  0.093211 -0.379369  0.383266   \n",
       "437    -0.567770 -0.361471  0.317059  0.171634  0.501322  0.028927 -0.475412   \n",
       "5137   -0.114107 -0.762725  0.428250 -0.164369  0.262402 -0.282245  0.441096   \n",
       "112225 -0.756745 -0.023949  0.804185 -0.250221 -0.235534 -0.252788 -0.055301   \n",
       "\n",
       "              7         8         9     ...           54        55        56  \\\n",
       "8407   -0.220612  0.212495  0.172507    ...    -0.467757  0.435015 -0.240713   \n",
       "24134  -0.082587  0.080922 -0.057420    ...    -0.683487  0.726207  0.089751   \n",
       "437     0.215894 -0.349919 -0.187479    ...    -0.434644  0.182110 -0.737798   \n",
       "5137   -0.002964 -0.808163 -0.026543    ...     0.116016 -0.034020  0.427990   \n",
       "112225 -0.696824 -0.533545 -0.256596    ...    -0.445286  0.011182 -0.139111   \n",
       "\n",
       "              57        58        59        60        61        62        63  \n",
       "8407   -0.169010 -0.314546  0.023538  0.235830 -0.482671 -0.737904 -0.034339  \n",
       "24134  -0.587924 -0.085845  0.497894  0.018399 -0.359172  0.048604 -0.174402  \n",
       "437    -0.081906 -0.732887  0.208704  1.018759  0.026315  0.026876  0.023387  \n",
       "5137    0.505340 -0.523311 -0.282126 -0.195657  0.071896  0.249905 -0.065358  \n",
       "112225  0.167113 -1.012066  0.000972  0.321081 -0.443356 -0.084046 -0.338192  \n",
       "\n",
       "[5 rows x 64 columns]"
      ]
     },
     "execution_count": 6,
     "metadata": {},
     "output_type": "execute_result"
    }
   ],
   "source": [
    "data.head()"
   ]
  },
  {
   "cell_type": "code",
   "execution_count": 7,
   "metadata": {
    "collapsed": false
   },
   "outputs": [
    {
     "data": {
      "text/plain": [
       "(43942, 64)"
      ]
     },
     "execution_count": 7,
     "metadata": {},
     "output_type": "execute_result"
    }
   ],
   "source": [
    "data.shape"
   ]
  },
  {
   "cell_type": "code",
   "execution_count": 8,
   "metadata": {
    "collapsed": true
   },
   "outputs": [],
   "source": [
    "data = data.sort_index()"
   ]
  },
  {
   "cell_type": "code",
   "execution_count": 9,
   "metadata": {
    "collapsed": false
   },
   "outputs": [
    {
     "data": {
      "text/html": [
       "<div>\n",
       "<table border=\"1\" class=\"dataframe\">\n",
       "  <thead>\n",
       "    <tr style=\"text-align: right;\">\n",
       "      <th></th>\n",
       "      <th>0</th>\n",
       "      <th>1</th>\n",
       "      <th>2</th>\n",
       "      <th>3</th>\n",
       "      <th>4</th>\n",
       "      <th>5</th>\n",
       "      <th>6</th>\n",
       "      <th>7</th>\n",
       "      <th>8</th>\n",
       "      <th>9</th>\n",
       "      <th>...</th>\n",
       "      <th>54</th>\n",
       "      <th>55</th>\n",
       "      <th>56</th>\n",
       "      <th>57</th>\n",
       "      <th>58</th>\n",
       "      <th>59</th>\n",
       "      <th>60</th>\n",
       "      <th>61</th>\n",
       "      <th>62</th>\n",
       "      <th>63</th>\n",
       "    </tr>\n",
       "  </thead>\n",
       "  <tbody>\n",
       "    <tr>\n",
       "      <th>0</th>\n",
       "      <td>-0.055238</td>\n",
       "      <td>0.067509</td>\n",
       "      <td>0.605642</td>\n",
       "      <td>-0.292846</td>\n",
       "      <td>0.572666</td>\n",
       "      <td>0.047598</td>\n",
       "      <td>0.252838</td>\n",
       "      <td>-0.619420</td>\n",
       "      <td>-0.200715</td>\n",
       "      <td>0.714666</td>\n",
       "      <td>...</td>\n",
       "      <td>-0.723926</td>\n",
       "      <td>-0.253441</td>\n",
       "      <td>-0.338413</td>\n",
       "      <td>0.645716</td>\n",
       "      <td>-0.633293</td>\n",
       "      <td>-0.114032</td>\n",
       "      <td>0.392921</td>\n",
       "      <td>-0.630678</td>\n",
       "      <td>-0.594772</td>\n",
       "      <td>-0.134718</td>\n",
       "    </tr>\n",
       "    <tr>\n",
       "      <th>1</th>\n",
       "      <td>-0.358324</td>\n",
       "      <td>0.448643</td>\n",
       "      <td>0.195792</td>\n",
       "      <td>-0.398027</td>\n",
       "      <td>0.262251</td>\n",
       "      <td>-0.518747</td>\n",
       "      <td>-0.349987</td>\n",
       "      <td>-0.427236</td>\n",
       "      <td>-0.469585</td>\n",
       "      <td>0.248236</td>\n",
       "      <td>...</td>\n",
       "      <td>0.057365</td>\n",
       "      <td>0.037636</td>\n",
       "      <td>-0.535748</td>\n",
       "      <td>0.171712</td>\n",
       "      <td>-0.577734</td>\n",
       "      <td>0.280372</td>\n",
       "      <td>-0.203097</td>\n",
       "      <td>-0.727411</td>\n",
       "      <td>-0.344239</td>\n",
       "      <td>0.298205</td>\n",
       "    </tr>\n",
       "    <tr>\n",
       "      <th>2</th>\n",
       "      <td>-0.488536</td>\n",
       "      <td>0.249600</td>\n",
       "      <td>0.285928</td>\n",
       "      <td>-0.129736</td>\n",
       "      <td>0.327222</td>\n",
       "      <td>-0.472600</td>\n",
       "      <td>0.271808</td>\n",
       "      <td>0.005700</td>\n",
       "      <td>0.202555</td>\n",
       "      <td>-0.386753</td>\n",
       "      <td>...</td>\n",
       "      <td>-0.612655</td>\n",
       "      <td>0.470951</td>\n",
       "      <td>-0.497956</td>\n",
       "      <td>-0.070499</td>\n",
       "      <td>-0.776085</td>\n",
       "      <td>-0.157178</td>\n",
       "      <td>0.220377</td>\n",
       "      <td>-0.020486</td>\n",
       "      <td>-0.761504</td>\n",
       "      <td>0.154803</td>\n",
       "    </tr>\n",
       "    <tr>\n",
       "      <th>3</th>\n",
       "      <td>-0.290978</td>\n",
       "      <td>0.543192</td>\n",
       "      <td>1.079988</td>\n",
       "      <td>-0.325179</td>\n",
       "      <td>0.548619</td>\n",
       "      <td>-0.133236</td>\n",
       "      <td>0.309269</td>\n",
       "      <td>-0.459271</td>\n",
       "      <td>0.075997</td>\n",
       "      <td>0.448158</td>\n",
       "      <td>...</td>\n",
       "      <td>-0.365809</td>\n",
       "      <td>0.129793</td>\n",
       "      <td>-0.437225</td>\n",
       "      <td>0.020424</td>\n",
       "      <td>-0.481050</td>\n",
       "      <td>0.400779</td>\n",
       "      <td>0.166219</td>\n",
       "      <td>-0.527631</td>\n",
       "      <td>-0.460074</td>\n",
       "      <td>0.768183</td>\n",
       "    </tr>\n",
       "    <tr>\n",
       "      <th>4</th>\n",
       "      <td>-0.278322</td>\n",
       "      <td>0.429405</td>\n",
       "      <td>0.207571</td>\n",
       "      <td>-0.205618</td>\n",
       "      <td>0.424053</td>\n",
       "      <td>-0.013210</td>\n",
       "      <td>0.121148</td>\n",
       "      <td>-0.669809</td>\n",
       "      <td>-0.092317</td>\n",
       "      <td>0.446910</td>\n",
       "      <td>...</td>\n",
       "      <td>-0.742416</td>\n",
       "      <td>0.151438</td>\n",
       "      <td>-0.441521</td>\n",
       "      <td>0.218120</td>\n",
       "      <td>-0.856869</td>\n",
       "      <td>0.060749</td>\n",
       "      <td>0.575097</td>\n",
       "      <td>-0.433136</td>\n",
       "      <td>-0.365345</td>\n",
       "      <td>0.250606</td>\n",
       "    </tr>\n",
       "  </tbody>\n",
       "</table>\n",
       "<p>5 rows × 64 columns</p>\n",
       "</div>"
      ],
      "text/plain": [
       "         0         1         2         3         4         5         6   \\\n",
       "0 -0.055238  0.067509  0.605642 -0.292846  0.572666  0.047598  0.252838   \n",
       "1 -0.358324  0.448643  0.195792 -0.398027  0.262251 -0.518747 -0.349987   \n",
       "2 -0.488536  0.249600  0.285928 -0.129736  0.327222 -0.472600  0.271808   \n",
       "3 -0.290978  0.543192  1.079988 -0.325179  0.548619 -0.133236  0.309269   \n",
       "4 -0.278322  0.429405  0.207571 -0.205618  0.424053 -0.013210  0.121148   \n",
       "\n",
       "         7         8         9     ...           54        55        56  \\\n",
       "0 -0.619420 -0.200715  0.714666    ...    -0.723926 -0.253441 -0.338413   \n",
       "1 -0.427236 -0.469585  0.248236    ...     0.057365  0.037636 -0.535748   \n",
       "2  0.005700  0.202555 -0.386753    ...    -0.612655  0.470951 -0.497956   \n",
       "3 -0.459271  0.075997  0.448158    ...    -0.365809  0.129793 -0.437225   \n",
       "4 -0.669809 -0.092317  0.446910    ...    -0.742416  0.151438 -0.441521   \n",
       "\n",
       "         57        58        59        60        61        62        63  \n",
       "0  0.645716 -0.633293 -0.114032  0.392921 -0.630678 -0.594772 -0.134718  \n",
       "1  0.171712 -0.577734  0.280372 -0.203097 -0.727411 -0.344239  0.298205  \n",
       "2 -0.070499 -0.776085 -0.157178  0.220377 -0.020486 -0.761504  0.154803  \n",
       "3  0.020424 -0.481050  0.400779  0.166219 -0.527631 -0.460074  0.768183  \n",
       "4  0.218120 -0.856869  0.060749  0.575097 -0.433136 -0.365345  0.250606  \n",
       "\n",
       "[5 rows x 64 columns]"
      ]
     },
     "execution_count": 9,
     "metadata": {},
     "output_type": "execute_result"
    }
   ],
   "source": [
    "data.head()"
   ]
  },
  {
   "cell_type": "code",
   "execution_count": 14,
   "metadata": {
    "collapsed": false
   },
   "outputs": [],
   "source": [
    "y_path = 'y.p'\n",
    "targets = read_pickle(y_path)"
   ]
  },
  {
   "cell_type": "code",
   "execution_count": 15,
   "metadata": {
    "collapsed": false
   },
   "outputs": [
    {
     "data": {
      "text/plain": [
       "pandas.core.frame.DataFrame"
      ]
     },
     "execution_count": 15,
     "metadata": {},
     "output_type": "execute_result"
    }
   ],
   "source": [
    "type(targets)"
   ]
  },
  {
   "cell_type": "code",
   "execution_count": 16,
   "metadata": {
    "collapsed": false
   },
   "outputs": [
    {
     "data": {
      "text/html": [
       "<div>\n",
       "<table border=\"1\" class=\"dataframe\">\n",
       "  <thead>\n",
       "    <tr style=\"text-align: right;\">\n",
       "      <th></th>\n",
       "      <th>fan_idx</th>\n",
       "      <th>cat</th>\n",
       "    </tr>\n",
       "  </thead>\n",
       "  <tbody>\n",
       "    <tr>\n",
       "      <th>0</th>\n",
       "      <td>0</td>\n",
       "      <td>2</td>\n",
       "    </tr>\n",
       "    <tr>\n",
       "      <th>11</th>\n",
       "      <td>1</td>\n",
       "      <td>1</td>\n",
       "    </tr>\n",
       "    <tr>\n",
       "      <th>29</th>\n",
       "      <td>2</td>\n",
       "      <td>1</td>\n",
       "    </tr>\n",
       "    <tr>\n",
       "      <th>45</th>\n",
       "      <td>3</td>\n",
       "      <td>2</td>\n",
       "    </tr>\n",
       "    <tr>\n",
       "      <th>99</th>\n",
       "      <td>4</td>\n",
       "      <td>2</td>\n",
       "    </tr>\n",
       "  </tbody>\n",
       "</table>\n",
       "</div>"
      ],
      "text/plain": [
       "    fan_idx  cat\n",
       "0         0    2\n",
       "11        1    1\n",
       "29        2    1\n",
       "45        3    2\n",
       "99        4    2"
      ]
     },
     "execution_count": 16,
     "metadata": {},
     "output_type": "execute_result"
    }
   ],
   "source": [
    "targets.head()"
   ]
  },
  {
   "cell_type": "code",
   "execution_count": 17,
   "metadata": {
    "collapsed": false
   },
   "outputs": [
    {
     "data": {
      "text/html": [
       "<div>\n",
       "<table border=\"1\" class=\"dataframe\">\n",
       "  <thead>\n",
       "    <tr style=\"text-align: right;\">\n",
       "      <th></th>\n",
       "      <th>fan_idx</th>\n",
       "      <th>cat</th>\n",
       "    </tr>\n",
       "  </thead>\n",
       "  <tbody>\n",
       "    <tr>\n",
       "      <th>99963</th>\n",
       "      <td>6444</td>\n",
       "      <td>5</td>\n",
       "    </tr>\n",
       "    <tr>\n",
       "      <th>99964</th>\n",
       "      <td>6445</td>\n",
       "      <td>0</td>\n",
       "    </tr>\n",
       "    <tr>\n",
       "      <th>99967</th>\n",
       "      <td>6446</td>\n",
       "      <td>3</td>\n",
       "    </tr>\n",
       "    <tr>\n",
       "      <th>99968</th>\n",
       "      <td>6447</td>\n",
       "      <td>1</td>\n",
       "    </tr>\n",
       "    <tr>\n",
       "      <th>99969</th>\n",
       "      <td>6448</td>\n",
       "      <td>0</td>\n",
       "    </tr>\n",
       "  </tbody>\n",
       "</table>\n",
       "</div>"
      ],
      "text/plain": [
       "       fan_idx  cat\n",
       "99963     6444    5\n",
       "99964     6445    0\n",
       "99967     6446    3\n",
       "99968     6447    1\n",
       "99969     6448    0"
      ]
     },
     "execution_count": 17,
     "metadata": {},
     "output_type": "execute_result"
    }
   ],
   "source": [
    "targets.tail()"
   ]
  },
  {
   "cell_type": "code",
   "execution_count": 19,
   "metadata": {
    "collapsed": false
   },
   "outputs": [],
   "source": [
    "X = read_pickle('X.p')"
   ]
  },
  {
   "cell_type": "code",
   "execution_count": 20,
   "metadata": {
    "collapsed": false
   },
   "outputs": [
    {
     "data": {
      "text/plain": [
       "(6449, 682230)"
      ]
     },
     "execution_count": 20,
     "metadata": {},
     "output_type": "execute_result"
    }
   ],
   "source": [
    "X.shape"
   ]
  },
  {
   "cell_type": "code",
   "execution_count": 21,
   "metadata": {
    "collapsed": true
   },
   "outputs": [],
   "source": [
    "y = data.ix[targets['fan_idx']]"
   ]
  },
  {
   "cell_type": "code",
   "execution_count": 22,
   "metadata": {
    "collapsed": false
   },
   "outputs": [
    {
     "data": {
      "text/html": [
       "<div>\n",
       "<table border=\"1\" class=\"dataframe\">\n",
       "  <thead>\n",
       "    <tr style=\"text-align: right;\">\n",
       "      <th></th>\n",
       "      <th>0</th>\n",
       "      <th>1</th>\n",
       "      <th>2</th>\n",
       "      <th>3</th>\n",
       "      <th>4</th>\n",
       "      <th>5</th>\n",
       "      <th>6</th>\n",
       "      <th>7</th>\n",
       "      <th>8</th>\n",
       "      <th>9</th>\n",
       "      <th>...</th>\n",
       "      <th>54</th>\n",
       "      <th>55</th>\n",
       "      <th>56</th>\n",
       "      <th>57</th>\n",
       "      <th>58</th>\n",
       "      <th>59</th>\n",
       "      <th>60</th>\n",
       "      <th>61</th>\n",
       "      <th>62</th>\n",
       "      <th>63</th>\n",
       "    </tr>\n",
       "  </thead>\n",
       "  <tbody>\n",
       "    <tr>\n",
       "      <th>0</th>\n",
       "      <td>-0.055238</td>\n",
       "      <td>0.067509</td>\n",
       "      <td>0.605642</td>\n",
       "      <td>-0.292846</td>\n",
       "      <td>0.572666</td>\n",
       "      <td>0.047598</td>\n",
       "      <td>0.252838</td>\n",
       "      <td>-0.619420</td>\n",
       "      <td>-0.200715</td>\n",
       "      <td>0.714666</td>\n",
       "      <td>...</td>\n",
       "      <td>-0.723926</td>\n",
       "      <td>-0.253441</td>\n",
       "      <td>-0.338413</td>\n",
       "      <td>0.645716</td>\n",
       "      <td>-0.633293</td>\n",
       "      <td>-0.114032</td>\n",
       "      <td>0.392921</td>\n",
       "      <td>-0.630678</td>\n",
       "      <td>-0.594772</td>\n",
       "      <td>-0.134718</td>\n",
       "    </tr>\n",
       "    <tr>\n",
       "      <th>1</th>\n",
       "      <td>-0.358324</td>\n",
       "      <td>0.448643</td>\n",
       "      <td>0.195792</td>\n",
       "      <td>-0.398027</td>\n",
       "      <td>0.262251</td>\n",
       "      <td>-0.518747</td>\n",
       "      <td>-0.349987</td>\n",
       "      <td>-0.427236</td>\n",
       "      <td>-0.469585</td>\n",
       "      <td>0.248236</td>\n",
       "      <td>...</td>\n",
       "      <td>0.057365</td>\n",
       "      <td>0.037636</td>\n",
       "      <td>-0.535748</td>\n",
       "      <td>0.171712</td>\n",
       "      <td>-0.577734</td>\n",
       "      <td>0.280372</td>\n",
       "      <td>-0.203097</td>\n",
       "      <td>-0.727411</td>\n",
       "      <td>-0.344239</td>\n",
       "      <td>0.298205</td>\n",
       "    </tr>\n",
       "    <tr>\n",
       "      <th>2</th>\n",
       "      <td>-0.488536</td>\n",
       "      <td>0.249600</td>\n",
       "      <td>0.285928</td>\n",
       "      <td>-0.129736</td>\n",
       "      <td>0.327222</td>\n",
       "      <td>-0.472600</td>\n",
       "      <td>0.271808</td>\n",
       "      <td>0.005700</td>\n",
       "      <td>0.202555</td>\n",
       "      <td>-0.386753</td>\n",
       "      <td>...</td>\n",
       "      <td>-0.612655</td>\n",
       "      <td>0.470951</td>\n",
       "      <td>-0.497956</td>\n",
       "      <td>-0.070499</td>\n",
       "      <td>-0.776085</td>\n",
       "      <td>-0.157178</td>\n",
       "      <td>0.220377</td>\n",
       "      <td>-0.020486</td>\n",
       "      <td>-0.761504</td>\n",
       "      <td>0.154803</td>\n",
       "    </tr>\n",
       "    <tr>\n",
       "      <th>3</th>\n",
       "      <td>-0.290978</td>\n",
       "      <td>0.543192</td>\n",
       "      <td>1.079988</td>\n",
       "      <td>-0.325179</td>\n",
       "      <td>0.548619</td>\n",
       "      <td>-0.133236</td>\n",
       "      <td>0.309269</td>\n",
       "      <td>-0.459271</td>\n",
       "      <td>0.075997</td>\n",
       "      <td>0.448158</td>\n",
       "      <td>...</td>\n",
       "      <td>-0.365809</td>\n",
       "      <td>0.129793</td>\n",
       "      <td>-0.437225</td>\n",
       "      <td>0.020424</td>\n",
       "      <td>-0.481050</td>\n",
       "      <td>0.400779</td>\n",
       "      <td>0.166219</td>\n",
       "      <td>-0.527631</td>\n",
       "      <td>-0.460074</td>\n",
       "      <td>0.768183</td>\n",
       "    </tr>\n",
       "    <tr>\n",
       "      <th>4</th>\n",
       "      <td>-0.278322</td>\n",
       "      <td>0.429405</td>\n",
       "      <td>0.207571</td>\n",
       "      <td>-0.205618</td>\n",
       "      <td>0.424053</td>\n",
       "      <td>-0.013210</td>\n",
       "      <td>0.121148</td>\n",
       "      <td>-0.669809</td>\n",
       "      <td>-0.092317</td>\n",
       "      <td>0.446910</td>\n",
       "      <td>...</td>\n",
       "      <td>-0.742416</td>\n",
       "      <td>0.151438</td>\n",
       "      <td>-0.441521</td>\n",
       "      <td>0.218120</td>\n",
       "      <td>-0.856869</td>\n",
       "      <td>0.060749</td>\n",
       "      <td>0.575097</td>\n",
       "      <td>-0.433136</td>\n",
       "      <td>-0.365345</td>\n",
       "      <td>0.250606</td>\n",
       "    </tr>\n",
       "  </tbody>\n",
       "</table>\n",
       "<p>5 rows × 64 columns</p>\n",
       "</div>"
      ],
      "text/plain": [
       "         0         1         2         3         4         5         6   \\\n",
       "0 -0.055238  0.067509  0.605642 -0.292846  0.572666  0.047598  0.252838   \n",
       "1 -0.358324  0.448643  0.195792 -0.398027  0.262251 -0.518747 -0.349987   \n",
       "2 -0.488536  0.249600  0.285928 -0.129736  0.327222 -0.472600  0.271808   \n",
       "3 -0.290978  0.543192  1.079988 -0.325179  0.548619 -0.133236  0.309269   \n",
       "4 -0.278322  0.429405  0.207571 -0.205618  0.424053 -0.013210  0.121148   \n",
       "\n",
       "         7         8         9     ...           54        55        56  \\\n",
       "0 -0.619420 -0.200715  0.714666    ...    -0.723926 -0.253441 -0.338413   \n",
       "1 -0.427236 -0.469585  0.248236    ...     0.057365  0.037636 -0.535748   \n",
       "2  0.005700  0.202555 -0.386753    ...    -0.612655  0.470951 -0.497956   \n",
       "3 -0.459271  0.075997  0.448158    ...    -0.365809  0.129793 -0.437225   \n",
       "4 -0.669809 -0.092317  0.446910    ...    -0.742416  0.151438 -0.441521   \n",
       "\n",
       "         57        58        59        60        61        62        63  \n",
       "0  0.645716 -0.633293 -0.114032  0.392921 -0.630678 -0.594772 -0.134718  \n",
       "1  0.171712 -0.577734  0.280372 -0.203097 -0.727411 -0.344239  0.298205  \n",
       "2 -0.070499 -0.776085 -0.157178  0.220377 -0.020486 -0.761504  0.154803  \n",
       "3  0.020424 -0.481050  0.400779  0.166219 -0.527631 -0.460074  0.768183  \n",
       "4  0.218120 -0.856869  0.060749  0.575097 -0.433136 -0.365345  0.250606  \n",
       "\n",
       "[5 rows x 64 columns]"
      ]
     },
     "execution_count": 22,
     "metadata": {},
     "output_type": "execute_result"
    }
   ],
   "source": [
    "y.head()"
   ]
  },
  {
   "cell_type": "code",
   "execution_count": 23,
   "metadata": {
    "collapsed": false
   },
   "outputs": [
    {
     "name": "stdout",
     "output_type": "stream",
     "text": [
      "Untitled.ipynb   X.p              test64.emd\r\n",
      "Untitled1.ipynb  test.edgelist    y.p\r\n"
     ]
    }
   ],
   "source": [
    "ls"
   ]
  },
  {
   "cell_type": "code",
   "execution_count": null,
   "metadata": {
    "collapsed": true
   },
   "outputs": [],
   "source": []
  }
 ],
 "metadata": {
  "kernelspec": {
   "display_name": "Python 2",
   "language": "python",
   "name": "python2"
  },
  "language_info": {
   "codemirror_mode": {
    "name": "ipython",
    "version": 2
   },
   "file_extension": ".py",
   "mimetype": "text/x-python",
   "name": "python",
   "nbconvert_exporter": "python",
   "pygments_lexer": "ipython2",
   "version": "2.7.12"
  }
 },
 "nbformat": 4,
 "nbformat_minor": 1
}
