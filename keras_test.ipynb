{
 "cells": [
  {
   "cell_type": "code",
   "execution_count": 28,
   "metadata": {
    "collapsed": false
   },
   "outputs": [
    {
     "name": "stdout",
     "output_type": "stream",
     "text": [
      "The autoreload extension is already loaded. To reload it, use:\n",
      "  %reload_ext autoreload\n"
     ]
    }
   ],
   "source": [
    "from IPython import get_ipython\n",
    "%load_ext autoreload\n",
    "%autoreload 2"
   ]
  },
  {
   "cell_type": "code",
   "execution_count": 30,
   "metadata": {
    "collapsed": false
   },
   "outputs": [],
   "source": [
    "from keras.models import Sequential\n",
    "from keras.layers import Dense, Activation\n",
    "from keras.optimizers import SGD\n",
    "import numpy as np\n",
    "from sklearn.preprocessing import OneHotEncoder\n",
    "import keras_test as kt"
   ]
  },
  {
   "cell_type": "code",
   "execution_count": 33,
   "metadata": {
    "collapsed": false
   },
   "outputs": [
    {
     "data": {
      "text/plain": [
       "<module 'keras_test' from 'keras_test.pyc'>"
      ]
     },
     "execution_count": 33,
     "metadata": {},
     "output_type": "execute_result"
    }
   ],
   "source": [
    "reload(utils)\n",
    "reload(kt)"
   ]
  },
  {
   "cell_type": "code",
   "execution_count": 18,
   "metadata": {
    "collapsed": false
   },
   "outputs": [
    {
     "name": "stdout",
     "output_type": "stream",
     "text": [
      "input matrix of shape: (6449, 682230)\n",
      "output matrix of shape: (6449, 3846)\n",
      "[[ 0.          0.18545511]\n",
      " [ 1.          0.12823694]\n",
      " [ 2.          0.33354008]\n",
      " [ 3.          0.15971468]\n",
      " [ 4.          0.08032253]\n",
      " [ 5.          0.11273066]]\n"
     ]
    }
   ],
   "source": [
    "X, y = kt.read_data(threshold=5)"
   ]
  },
  {
   "cell_type": "code",
   "execution_count": 19,
   "metadata": {
    "collapsed": true
   },
   "outputs": [],
   "source": [
    "def one_hot(y):\n",
    "    \"\"\"\n",
    "    one hot encode the target variables\n",
    "    :param y: a 1d numpy array\n",
    "    :return: a [n_data, 10] numpy array\n",
    "    \"\"\"\n",
    "    enc = OneHotEncoder(n_values=10, sparse=False)\n",
    "    temp = enc.fit_transform(y)\n",
    "    return np.reshape(temp, newshape=[-1, 10], order='C')"
   ]
  },
  {
   "cell_type": "code",
   "execution_count": 20,
   "metadata": {
    "collapsed": false
   },
   "outputs": [],
   "source": [
    "model = Sequential()\n",
    "input_dim = features.shape[1]\n",
    "model.add(Dense(output_dim=128, input_dim=input_dim))\n",
    "model.add(Activation(\"relu\"))\n",
    "model.add(Dense(output_dim=10))\n",
    "model.add(Activation(\"softmax\"))\n",
    "\n",
    "model.compile(loss=\"categorical_crossentropy\", optimizer=SGD(lr=0.01, momentum=0.9, nesterov=True),\n",
    "              metrics=['accuracy'])"
   ]
  },
  {
   "cell_type": "code",
   "execution_count": 34,
   "metadata": {
    "collapsed": true
   },
   "outputs": [
    {
     "name": "stderr",
     "output_type": "stream",
     "text": [
      "/Users/benchamberlain/anaconda/envs/tensorflow/lib/python2.7/site-packages/sklearn/utils/validation.py:395: DeprecationWarning: Passing 1d arrays as data is deprecated in 0.17 and will raise ValueError in 0.19. Reshape your data either using X.reshape(-1, 1) if your data has a single feature or X.reshape(1, -1) if it contains a single sample.\n",
      "  DeprecationWarning)\n"
     ]
    },
    {
     "name": "stdout",
     "output_type": "stream",
     "text": [
      "Epoch 1/1\n",
      "3223/3223 [==============================] - 3s - loss: 1.9101 - acc: 0.3239     \n",
      "3226/3226 [==============================] - 1s     \n",
      "Epoch 1/1\n",
      " 256/3226 [=>............................] - ETA: 2s - loss: 1.7353 - acc: 0.3164"
     ]
    },
    {
     "name": "stderr",
     "output_type": "stream",
     "text": [
      "/Users/benchamberlain/anaconda/envs/tensorflow/lib/python2.7/site-packages/sklearn/utils/validation.py:395: DeprecationWarning: Passing 1d arrays as data is deprecated in 0.17 and will raise ValueError in 0.19. Reshape your data either using X.reshape(-1, 1) if your data has a single feature or X.reshape(1, -1) if it contains a single sample.\n",
      "  DeprecationWarning)\n"
     ]
    },
    {
     "name": "stdout",
     "output_type": "stream",
     "text": [
      "3226/3226 [==============================] - 2s - loss: 1.6980 - acc: 0.3438     \n",
      "3223/3223 [==============================] - 0s     \n",
      "macro\n",
      "0.112323897711\n",
      "micro\n",
      "0.348271049775\n",
      "all\n",
      "[ 0.16604893  0.          0.50515098  0.          0.          0.00274348]\n"
     ]
    },
    {
     "name": "stderr",
     "output_type": "stream",
     "text": [
      "/Users/benchamberlain/anaconda/envs/tensorflow/lib/python2.7/site-packages/sklearn/metrics/classification.py:1113: UndefinedMetricWarning: F-score is ill-defined and being set to 0.0 in labels with no predicted samples.\n",
      "  'precision', 'predicted', average, warn_for)\n"
     ]
    }
   ],
   "source": [
    "km = kt.keras_model(model, batch_size=32, training_epochs=1)\n",
    "y_preds = utils.run_cv_pred(X, y, n_folds=2, model=km)\n",
    "utils.get_metrics(y, y_preds)"
   ]
  },
  {
   "cell_type": "code",
   "execution_count": 35,
   "metadata": {
    "collapsed": false
   },
   "outputs": [
    {
     "name": "stdout",
     "output_type": "stream",
     "text": [
      "t1\n",
      "Epoch 1/3\n",
      " 160/3223 [>.............................] - ETA: 3s - loss: 1.6140 - acc: 0.4188"
     ]
    },
    {
     "name": "stderr",
     "output_type": "stream",
     "text": [
      "/Users/benchamberlain/anaconda/envs/tensorflow/lib/python2.7/site-packages/sklearn/utils/validation.py:395: DeprecationWarning: Passing 1d arrays as data is deprecated in 0.17 and will raise ValueError in 0.19. Reshape your data either using X.reshape(-1, 1) if your data has a single feature or X.reshape(1, -1) if it contains a single sample.\n",
      "  DeprecationWarning)\n"
     ]
    },
    {
     "name": "stdout",
     "output_type": "stream",
     "text": [
      "3223/3223 [==============================] - 2s - loss: 1.6344 - acc: 0.3605     \n",
      "Epoch 2/3\n",
      "3223/3223 [==============================] - 2s - loss: 1.5791 - acc: 0.3739     \n",
      "Epoch 3/3\n",
      "3223/3223 [==============================] - 2s - loss: 1.5263 - acc: 0.3919     \n",
      "t2\n",
      "3226/3226 [==============================] - 1s     \n",
      "t1\n",
      "Epoch 1/3\n",
      " 160/3226 [>.............................] - ETA: 3s - loss: 1.5924 - acc: 0.3812"
     ]
    },
    {
     "name": "stderr",
     "output_type": "stream",
     "text": [
      "/Users/benchamberlain/anaconda/envs/tensorflow/lib/python2.7/site-packages/sklearn/utils/validation.py:395: DeprecationWarning: Passing 1d arrays as data is deprecated in 0.17 and will raise ValueError in 0.19. Reshape your data either using X.reshape(-1, 1) if your data has a single feature or X.reshape(1, -1) if it contains a single sample.\n",
      "  DeprecationWarning)\n"
     ]
    },
    {
     "name": "stdout",
     "output_type": "stream",
     "text": [
      "3226/3226 [==============================] - 2s - loss: 1.5552 - acc: 0.3909     \n",
      "Epoch 2/3\n",
      "3226/3226 [==============================] - 2s - loss: 1.4860 - acc: 0.4076     \n",
      "Epoch 3/3\n",
      "3226/3226 [==============================] - 1s - loss: 1.4234 - acc: 0.4392     \n",
      "t2\n",
      "3200/3223 [============================>.] - ETA: 0smacro\n",
      "0.243415767372\n",
      "micro\n",
      "0.41076135835\n",
      "all\n",
      "[ 0.45235487  0.02588235  0.53511888  0.2352132   0.01149425  0.20043103]\n"
     ]
    }
   ],
   "source": [
    "km = kt.keras_model(model, batch_size=32, training_epochs=3)\n",
    "y_preds = utils.run_cv_pred(X, y, n_folds=2, model=km)\n",
    "utils.get_metrics(y, y_preds)"
   ]
  },
  {
   "cell_type": "code",
   "execution_count": null,
   "metadata": {
    "collapsed": true
   },
   "outputs": [],
   "source": []
  }
 ],
 "metadata": {
  "kernelspec": {
   "display_name": "Python 2",
   "language": "python",
   "name": "python2"
  },
  "language_info": {
   "codemirror_mode": {
    "name": "ipython",
    "version": 2
   },
   "file_extension": ".py",
   "mimetype": "text/x-python",
   "name": "python",
   "nbconvert_exporter": "python",
   "pygments_lexer": "ipython2",
   "version": "2.7.12"
  }
 },
 "nbformat": 4,
 "nbformat_minor": 1
}
